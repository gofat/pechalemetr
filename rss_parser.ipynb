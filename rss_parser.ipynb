{
 "cells": [
  {
   "cell_type": "code",
   "execution_count": 60,
   "metadata": {
    "collapsed": false
   },
   "outputs": [],
   "source": [
    "import pandas as pd\n",
    "import urllib\n",
    "import re\n",
    "import sqlite3\n",
    "import os\n",
    "from xml.etree.ElementTree import parse"
   ]
  },
  {
   "cell_type": "code",
   "execution_count": 3,
   "metadata": {
    "collapsed": true
   },
   "outputs": [],
   "source": [
    "# open rss list\n",
    "rss_list = pd.read_table('rss_list.txt', sep=',')"
   ]
  },
  {
   "cell_type": "code",
   "execution_count": 4,
   "metadata": {
    "collapsed": true
   },
   "outputs": [],
   "source": [
    "# TODO add log files -> work, crashes\n",
    "# TODO add saving to s3\n",
    "# TODO get rss_list from file\n",
    "# TODO saving to sql database (?)"
   ]
  },
  {
   "cell_type": "code",
   "execution_count": 48,
   "metadata": {
    "collapsed": false
   },
   "outputs": [],
   "source": [
    "def get_rss(url):\n",
    "    # function get data from rss url -> return readed root\n",
    "    # required urllib2\n",
    "    try:\n",
    "        request = urllib.request.urlopen(url)\n",
    "        tree = parse(request)\n",
    "        root = tree.getroot()\n",
    "        return root\n",
    "    except Exception as e:\n",
    "        # change to save in crashes log file\n",
    "        print(\"there is problem with parsing this url, error: {}\".format(e))"
   ]
  },
  {
   "cell_type": "code",
   "execution_count": 20,
   "metadata": {
    "collapsed": true
   },
   "outputs": [],
   "source": [
    "def rss_parse(root, site_name):\n",
    "    # function parsed downloaded rss data -> return title, date, link, description, category\n",
    "    # required xml.tree\n",
    "    # TODO: parse enclosure url (?) for pic's\n",
    "    \n",
    "    title = []\n",
    "    date = []\n",
    "    link = []\n",
    "    description = []\n",
    "    category = []\n",
    "    site = []\n",
    "    \n",
    "    for item in root.iterfind('channel/item'):\n",
    "        title.append(item.findtext('title'))\n",
    "        date.append(item.findtext('pubDate'))\n",
    "        link.append(item.findtext('link'))\n",
    "        description.append(item.findtext('description').strip())\n",
    "        category.append(item.findtext('category'))\n",
    "        print(item.findtext('enclosure url'))\n",
    "        site.append(site_name)\n",
    "    \n",
    "    return [title, date, link, description, category, site]"
   ]
  },
  {
   "cell_type": "code",
   "execution_count": 12,
   "metadata": {
    "collapsed": true
   },
   "outputs": [],
   "source": [
    "def save_parsed(parsed_list, path, filename, mode):\n",
    "    # function get pandas dataframe from parsed data and save it to csv file -> return csv file\n",
    "    # required pandas\n",
    "    # saving to s3 in separate function (?)\n",
    "    \n",
    "    # dataframe from list of lists\n",
    "    df = pd.DataFrame(parsed_list)\n",
    "    # transpose dataframe for getting wright structure\n",
    "    df = df.transpose()\n",
    "    # append column names\n",
    "    df.columns=['title', 'date', 'link', 'description', 'category', 'site']\n",
    "    \n",
    "    if mode == 'csv':\n",
    "        # save as csv file\n",
    "        if os.path.isfile(path+filename):\n",
    "            df.to_csv(path+filename, mode=mode, encoding='utf8', index=False)\n",
    "        else:\n",
    "            raise NameError('there is no file {}'.format(path+filename))\n",
    "    elif mode == 'sqlite':\n",
    "        # save as sqlite database\n",
    "        df.to_sql()\n",
    "    # clear memory from df\n",
    "    del df"
   ]
  },
  {
   "cell_type": "code",
   "execution_count": 58,
   "metadata": {
    "collapsed": true
   },
   "outputs": [],
   "source": [
    "def create_sql_conn(sql_db_name, sql_total_table, sql_detail_table):\n",
    "    # create sql database connection (using sqlite)\n",
    "    # create databases if not exits\n",
    "    # takes sql_db_name, sql_total and sql_detail table names\n",
    "    \n",
    "    conn = sqlite3.connect(sql_db_name)\n",
    "    cursor = conn.cursor()\n",
    "\n",
    "    sql = 'create table if not exists {} (id integer, title VARCHAR(255), timestamp integer,\\\n",
    "    link VARCHAR(255), description VARCHAR (1024), category VARCHAR(128), site VARCHAR(32))'.format(sql_total_table)\n",
    "    cursor.execute(sql)\n",
    "    conn.commit()\n",
    "    \n",
    "    sql = 'create table if not exists {} (id integer, text VARCHAR(10192), photo_id integer)'.format(sql_detail_table)\n",
    "    cursor.execute(sql)\n",
    "    conn.commit()\n",
    "\n",
    "    cursor.close()\n",
    "    \n",
    "    return conn"
   ]
  },
  {
   "cell_type": "code",
   "execution_count": null,
   "metadata": {
    "collapsed": true
   },
   "outputs": [],
   "source": [
    "def save_pic(pic_url, pic_path):\n",
    "    # save picture from url pic_url to local pic_path\n",
    "    # pic_path format [path]/pic_name\n",
    "    urllib.request.urlretrieve(pic_url,pic_path)"
   ]
  },
  {
   "cell_type": "code",
   "execution_count": 59,
   "metadata": {
    "collapsed": false
   },
   "outputs": [
    {
     "data": {
      "text/plain": [
       "<sqlite3.Connection at 0x1f8347c4650>"
      ]
     },
     "execution_count": 59,
     "metadata": {},
     "output_type": "execute_result"
    }
   ],
   "source": [
    "conn = create_sql_conn('data.db', 'total', 'detail')"
   ]
  },
  {
   "cell_type": "code",
   "execution_count": 52,
   "metadata": {
    "collapsed": true
   },
   "outputs": [],
   "source": []
  },
  {
   "cell_type": "code",
   "execution_count": 53,
   "metadata": {
    "collapsed": true
   },
   "outputs": [],
   "source": [
    "#save_pic('https://icdn.lenta.ru/images/2017/06/12/13/20170612131102377/pic_998932297f82155b05d7e3c32f98df2e.jpg','1.jpg')"
   ]
  },
  {
   "cell_type": "code",
   "execution_count": null,
   "metadata": {
    "collapsed": true
   },
   "outputs": [],
   "source": []
  }
 ],
 "metadata": {
  "kernelspec": {
   "display_name": "Python 3",
   "language": "python",
   "name": "python3"
  },
  "language_info": {
   "codemirror_mode": {
    "name": "ipython",
    "version": 3
   },
   "file_extension": ".py",
   "mimetype": "text/x-python",
   "name": "python",
   "nbconvert_exporter": "python",
   "pygments_lexer": "ipython3",
   "version": "3.6.0"
  }
 },
 "nbformat": 4,
 "nbformat_minor": 0
}
