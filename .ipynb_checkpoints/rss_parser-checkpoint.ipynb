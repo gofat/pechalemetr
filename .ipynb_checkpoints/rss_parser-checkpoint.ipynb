{
 "cells": [
  {
   "cell_type": "code",
   "execution_count": 1,
   "metadata": {
    "collapsed": true
   },
   "outputs": [],
   "source": [
    "import pandas as pd\n",
    "import urllib2\n",
    "from xml.etree.ElementTree import parse"
   ]
  },
  {
   "cell_type": "code",
   "execution_count": 2,
   "metadata": {
    "collapsed": true
   },
   "outputs": [],
   "source": [
    "# open rss list\n",
    "rss_list = pd.read_table('rss_list.txt', sep=',')"
   ]
  },
  {
   "cell_type": "code",
   "execution_count": null,
   "metadata": {
    "collapsed": true
   },
   "outputs": [],
   "source": [
    "# TODO add log files -> work, crashes\n",
    "# TODO add saving to s3\n",
    "# TODO get rss_list from file\n",
    "# TODO saving to sql database (?)"
   ]
  },
  {
   "cell_type": "code",
   "execution_count": 21,
   "metadata": {
    "collapsed": true
   },
   "outputs": [],
   "source": [
    "def get_rss(url):\n",
    "    # function get data from rss url -> return readed root\n",
    "    # required urllib2\n",
    "    try:\n",
    "        tree = parse(urllib2.urlopen(url))\n",
    "        root = tree.getroot()\n",
    "        return root\n",
    "    except:\n",
    "        # change to save in crashes log file\n",
    "        print \"there is problem with parsing this url\""
   ]
  },
  {
   "cell_type": "code",
   "execution_count": 41,
   "metadata": {
    "collapsed": true
   },
   "outputs": [],
   "source": [
    "def rss_parse(root, site_name):\n",
    "    # function parsed downloaded rss data -> return title, date, link, description, category\n",
    "    # required xml.tree\n",
    "    # TODO: parse enclosure url (?) for pic's\n",
    "    \n",
    "    title = []\n",
    "    date = []\n",
    "    link = []\n",
    "    description = []\n",
    "    category = []\n",
    "    site = []\n",
    "    \n",
    "    for item in root.iterfind('channel/item'):\n",
    "        title.append(item.findtext('title'))\n",
    "        date.append(item.findtext('pubDate'))\n",
    "        link.append(item.findtext('link'))\n",
    "        description.append(item.findtext('description').strip())\n",
    "        category.append(item.findtext('category'))\n",
    "        site.append(site_name)\n",
    "    \n",
    "    return [title, date, link, description, category, site]"
   ]
  },
  {
   "cell_type": "code",
   "execution_count": 46,
   "metadata": {
    "collapsed": true
   },
   "outputs": [],
   "source": [
    "def save_parsed(parsed_list, path, filename, mode):\n",
    "    # function get pandas dataframe from parsed data and save it to csv file -> return csv file\n",
    "    # required pandas\n",
    "    # using mode (?) 'w', 'a'???\n",
    "    # saving to s3 in separate function (?)\n",
    "    \n",
    "    # dataframe from list of lists\n",
    "    df = pd.DataFrame(parsed_list)\n",
    "    # transpose dataframe for getting wright structure\n",
    "    df = df.transpose()\n",
    "    # append column names\n",
    "    df.columns=['title', 'date', 'link', 'description', 'category', 'site']\n",
    "    # save as csv file\n",
    "    df.to_csv(path+filename, mode=mode, encoding='utf8', index=False)\n",
    "    # clear memory from df\n",
    "    del df"
   ]
  },
  {
   "cell_type": "code",
   "execution_count": 47,
   "metadata": {
    "collapsed": false
   },
   "outputs": [],
   "source": [
    "save_parsed(rss_parse(get_rss('https://lenta.ru/rss/news'),'lenta'), '','test_rss.csv', 'w')"
   ]
  },
  {
   "cell_type": "code",
   "execution_count": null,
   "metadata": {
    "collapsed": true
   },
   "outputs": [],
   "source": []
  }
 ],
 "metadata": {
  "kernelspec": {
   "display_name": "Python 2",
   "language": "python",
   "name": "python2"
  },
  "language_info": {
   "codemirror_mode": {
    "name": "ipython",
    "version": 2
   },
   "file_extension": ".py",
   "mimetype": "text/x-python",
   "name": "python",
   "nbconvert_exporter": "python",
   "pygments_lexer": "ipython2",
   "version": "2.7.11"
  }
 },
 "nbformat": 4,
 "nbformat_minor": 0
}
